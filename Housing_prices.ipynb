{
 "cells": [
  {
   "attachments": {},
   "cell_type": "markdown",
   "metadata": {},
   "source": []
  },
  {
   "cell_type": "code",
   "execution_count": 1,
   "metadata": {},
   "outputs": [
    {
     "data": {
      "text/plain": [
       "<bound method NDFrame.head of           Date  Composite_HPI_SA  Single_Family_HPI_SA  One_Storey_HPI_SA   \n",
       "0   2005-01-01             100.0                 100.0              100.0  \\\n",
       "1   2005-02-01             100.6                 100.5              100.8   \n",
       "2   2005-03-01             101.4                 101.2              102.0   \n",
       "3   2005-04-01             101.9                 101.8              102.8   \n",
       "4   2005-05-01             102.6                 102.3              103.6   \n",
       "..         ...               ...                   ...                ...   \n",
       "216 2023-01-01             214.7                 215.7              231.6   \n",
       "217 2023-02-01             214.9                 215.8              231.0   \n",
       "218 2023-03-01             213.6                 214.7              228.6   \n",
       "219 2023-04-01             215.0                 215.9              230.2   \n",
       "220 2023-05-01             216.6                 217.6              230.6   \n",
       "\n",
       "     Two_Storey_HPI_SA  Townhouse_HPI_SA  Apartment_HPI_SA   \n",
       "0                100.0             100.0             100.0  \\\n",
       "1                100.3             100.7             101.0   \n",
       "2                100.6             101.3             102.2   \n",
       "3                101.0             101.9             102.9   \n",
       "4                101.4             102.5             103.7   \n",
       "..                 ...               ...               ...   \n",
       "216              204.7             200.8             214.6   \n",
       "217              206.3             199.0             212.1   \n",
       "218              205.5             200.8             207.9   \n",
       "219              207.7             209.1             206.4   \n",
       "220              211.0             219.5             209.8   \n",
       "\n",
       "     Composite_Benchmark_SA  Single_Family_Benchmark_SA   \n",
       "0                    294700                      368300  \\\n",
       "1                    296600                      370200   \n",
       "2                    298700                      372700   \n",
       "3                    300400                      374800   \n",
       "4                    302300                      376900   \n",
       "..                      ...                         ...   \n",
       "216                  280200                      281900   \n",
       "217                  280400                      282000   \n",
       "218                  278800                      280600   \n",
       "219                  280600                      282200   \n",
       "220                  282600                      284400   \n",
       "\n",
       "     One_Storey_Benchmark_SA  Two_Storey_Benchmark_SA  Townhouse_Benchmark_SA   \n",
       "0                     287300                   469000                243100.0  \\\n",
       "1                     289500                   470500                244900.0   \n",
       "2                     293000                   471700                246300.0   \n",
       "3                     295400                   473500                247600.0   \n",
       "4                     297500                   475400                249100.0   \n",
       "..                       ...                      ...                     ...   \n",
       "216                   262400                   317500                260100.0   \n",
       "217                   261700                   319900                257700.0   \n",
       "218                   259000                   318800                260000.0   \n",
       "219                   260800                   322100                270800.0   \n",
       "220                   261300                   327200                284200.0   \n",
       "\n",
       "     Apartment_Benchmark_SA                   Location  \n",
       "0                  190200.0           BRITISH_COLUMBIA  \n",
       "1                  192100.0           BRITISH_COLUMBIA  \n",
       "2                  194400.0           BRITISH_COLUMBIA  \n",
       "3                  195700.0           BRITISH_COLUMBIA  \n",
       "4                  197200.0           BRITISH_COLUMBIA  \n",
       "..                      ...                        ...  \n",
       "216                231100.0  NEWFOUNDLAND_AND_LABRADOR  \n",
       "217                228400.0  NEWFOUNDLAND_AND_LABRADOR  \n",
       "218                223900.0  NEWFOUNDLAND_AND_LABRADOR  \n",
       "219                222300.0  NEWFOUNDLAND_AND_LABRADOR  \n",
       "220                226000.0  NEWFOUNDLAND_AND_LABRADOR  \n",
       "\n",
       "[1989 rows x 14 columns]>"
      ]
     },
     "execution_count": 1,
     "metadata": {},
     "output_type": "execute_result"
    }
   ],
   "source": [
    "%time\n",
    "import pandas as pd\n",
    "import os\n",
    "##os.chdir('C:/Users/575774/Documents/project')\n",
    "os.chdir('C:/Users/nisha/OneDrive/Documents/project')\n",
    "xls = pd.ExcelFile('Housing_Prices_2005_2023.xlsx')\n",
    "df = pd.DataFrame()\n",
    "cities_df = pd.DataFrame()\n",
    "\n",
    "for sheet in xls.sheet_names:\n",
    "    sheet_df=pd.read_excel('Housing_Prices_2005_2023.xlsx', sheet_name=sheet)\n",
    "    province = ['BRITISH_COLUMBIA','ALBERTA','SASKATCHEWAN', 'WINNIPEG', 'ONTARIO','QUEBEC','NOVA_SCOTIA','PRINCE_EDWARD_ISLAND','NEWFOUNDLAND_AND_LABRADOR']\n",
    "    if sheet in province:\n",
    "        sheet = 'MANITOBA' if sheet== 'WINNIPEG' else sheet\n",
    "        sheet_df['Location'] = sheet\n",
    "        df = pd.concat([df,sheet_df])\n",
    "    else:\n",
    "        sheet_df['Location'] = sheet    \n",
    "        cities_df = pd.concat([cities_df,sheet_df])\n",
    "df.head\n"
   ]
  },
  {
   "cell_type": "code",
   "execution_count": 2,
   "metadata": {},
   "outputs": [
    {
     "data": {
      "text/plain": [
       "(1989, 14)"
      ]
     },
     "execution_count": 2,
     "metadata": {},
     "output_type": "execute_result"
    }
   ],
   "source": [
    "df.columns\n",
    "df.shape"
   ]
  },
  {
   "cell_type": "code",
   "execution_count": 3,
   "metadata": {},
   "outputs": [
    {
     "name": "stdout",
     "output_type": "stream",
     "text": [
      "CPU times: total: 0 ns\n",
      "Wall time: 0 ns\n"
     ]
    },
    {
     "data": {
      "text/plain": [
       "Index(['Date', 'Single_Family_Benchmark_SA', 'One_Storey_Benchmark_SA',\n",
       "       'Two_Storey_Benchmark_SA', 'Townhouse_Benchmark_SA',\n",
       "       'Apartment_Benchmark_SA', 'Location'],\n",
       "      dtype='object')"
      ]
     },
     "execution_count": 3,
     "metadata": {},
     "output_type": "execute_result"
    }
   ],
   "source": [
    "%time\n",
    "df.drop('Composite_HPI_SA', axis=1,inplace=True)\n",
    "df.drop('Single_Family_HPI_SA', axis=1,inplace=True)\n",
    "df.drop('One_Storey_HPI_SA', axis=1,inplace=True)\n",
    "df.drop('Two_Storey_HPI_SA', axis=1,inplace=True)\n",
    "df.drop('Townhouse_HPI_SA', axis=1,inplace=True)\n",
    "df.drop('Apartment_HPI_SA', axis=1,inplace=True)\n",
    "df.drop('Composite_Benchmark_SA', axis=1,inplace=True)\n",
    "\n",
    "df.columns\n"
   ]
  },
  {
   "cell_type": "code",
   "execution_count": 4,
   "metadata": {},
   "outputs": [],
   "source": [
    "df = df.rename(columns={'Single_Family_Benchmark_SA': 'Single_Family', \n",
    "                        'One_Storey_Benchmark_SA': 'One_Storey',\n",
    "                        'Two_Storey_Benchmark_SA': 'Two_Storey',\n",
    "                        'Townhouse_Benchmark_SA' : 'Townhouse',\n",
    "                        'Apartment_Benchmark_SA' : 'Apartment'\n",
    "                        })"
   ]
  },
  {
   "cell_type": "code",
   "execution_count": 5,
   "metadata": {},
   "outputs": [
    {
     "data": {
      "text/plain": [
       "(1989, 7)"
      ]
     },
     "execution_count": 5,
     "metadata": {},
     "output_type": "execute_result"
    }
   ],
   "source": [
    "df.shape"
   ]
  },
  {
   "cell_type": "code",
   "execution_count": 6,
   "metadata": {},
   "outputs": [
    {
     "name": "stdout",
     "output_type": "stream",
     "text": [
      "CPU times: total: 0 ns\n",
      "Wall time: 0 ns\n"
     ]
    }
   ],
   "source": [
    "%time\n",
    "df.drop_duplicates(inplace = True)"
   ]
  },
  {
   "cell_type": "code",
   "execution_count": 7,
   "metadata": {},
   "outputs": [
    {
     "data": {
      "text/plain": [
       "(1989, 7)"
      ]
     },
     "execution_count": 7,
     "metadata": {},
     "output_type": "execute_result"
    }
   ],
   "source": [
    "df.shape"
   ]
  },
  {
   "cell_type": "code",
   "execution_count": 8,
   "metadata": {},
   "outputs": [
    {
     "data": {
      "text/plain": [
       "<bound method NDFrame.head of            Date                   Location     House_type  Benchmark_Price\n",
       "0    2005-01-01           BRITISH_COLUMBIA  Single_Family         368300.0\n",
       "1    2005-02-01           BRITISH_COLUMBIA  Single_Family         370200.0\n",
       "2    2005-03-01           BRITISH_COLUMBIA  Single_Family         372700.0\n",
       "3    2005-04-01           BRITISH_COLUMBIA  Single_Family         374800.0\n",
       "4    2005-05-01           BRITISH_COLUMBIA  Single_Family         376900.0\n",
       "...         ...                        ...            ...              ...\n",
       "9940 2023-01-01  NEWFOUNDLAND_AND_LABRADOR      Apartment         231100.0\n",
       "9941 2023-02-01  NEWFOUNDLAND_AND_LABRADOR      Apartment         228400.0\n",
       "9942 2023-03-01  NEWFOUNDLAND_AND_LABRADOR      Apartment         223900.0\n",
       "9943 2023-04-01  NEWFOUNDLAND_AND_LABRADOR      Apartment         222300.0\n",
       "9944 2023-05-01  NEWFOUNDLAND_AND_LABRADOR      Apartment         226000.0\n",
       "\n",
       "[9945 rows x 4 columns]>"
      ]
     },
     "execution_count": 8,
     "metadata": {},
     "output_type": "execute_result"
    }
   ],
   "source": [
    "df=df.melt(id_vars = ['Date','Location'], var_name ='House_type', value_name='Benchmark_Price')\n",
    "df.head"
   ]
  },
  {
   "cell_type": "code",
   "execution_count": 9,
   "metadata": {},
   "outputs": [],
   "source": [
    "df['Benchmark_Price'] = df['Benchmark_Price'].fillna(0)"
   ]
  },
  {
   "cell_type": "code",
   "execution_count": 10,
   "metadata": {},
   "outputs": [],
   "source": [
    "import pyodbc\n",
    "\n",
    "\"\"\" cnxn = pyodbc.connect(\n",
    "    r'Driver=SQL Server;'\n",
    "    r'Server=ADT230771;'\n",
    "    r'Database=DWQueue;'\n",
    "    r'Trusted_Connection=yes;'\n",
    "    )\n",
    " \"\"\"\n",
    "cnxn = pyodbc.connect(\n",
    "    r'Driver=SQL Server;'\n",
    "    r'Server=DESKTOP-BN48D65\\SQLEXPRESS;'\n",
    "    r'Database=Housing;'\n",
    "    r'Trusted_Connection=yes;'\n",
    "    )\n",
    "cursor = cnxn.cursor()\n",
    "province = df['Location'].unique()\n",
    "type = df['House_type'].unique()\n",
    "\n",
    "codes =['BC','AB','SK','MB','ON','QC','NS','PE','NL']\n",
    "values=list(zip(codes,province))\n",
    "\n",
    "sql = \"INSERT INTO PROVINCE (ProvinceCode,Name) VALUES (?,?)\"\n",
    "try:\n",
    "    cursor.executemany(sql,values)\n",
    "    cursor.commit()\n",
    "except:\n",
    "    pass  \n",
    "\n",
    "sql = \"INSERT INTO HouseType (Name) VALUES (?)\"\n",
    "try:\n",
    "    cursor.executemany(sql,list(zip(type)))\n",
    "    cursor.commit()\n",
    "except:\n",
    "    pass     \n",
    "df.columns\n",
    "for row in df.itertuples():\n",
    "\n",
    "    cursor.execute('select TypeID from HouseType where Name = ?',row[3])\n",
    "    type = cursor.fetchone()[0]\n",
    "    cursor.execute('select ProvinceID from Province where Name = ?',row[2])\n",
    "    prov = cursor.fetchone()[0]\n",
    "\n",
    "    sql = \"INSERT INTO HousePrices (Date,HouseType,Province,BenchMarkPrice) VALUES(?,?,?,?)\"\n",
    "    try:\n",
    "        cursor.execute(sql,row[1],type,prov,row[4])\n",
    "        cursor.commit()\n",
    "    except:\n",
    "        pass\n",
    "\n",
    "cursor.close()\n"
   ]
  },
  {
   "cell_type": "code",
   "execution_count": null,
   "metadata": {},
   "outputs": [],
   "source": []
  }
 ],
 "metadata": {
  "kernelspec": {
   "display_name": "Python 3",
   "language": "python",
   "name": "python3"
  },
  "language_info": {
   "codemirror_mode": {
    "name": "ipython",
    "version": 3
   },
   "file_extension": ".py",
   "mimetype": "text/x-python",
   "name": "python",
   "nbconvert_exporter": "python",
   "pygments_lexer": "ipython3",
   "version": "3.10.10"
  },
  "orig_nbformat": 4
 },
 "nbformat": 4,
 "nbformat_minor": 2
}
