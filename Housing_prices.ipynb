{
 "cells": [
  {
   "attachments": {},
   "cell_type": "markdown",
   "metadata": {},
   "source": []
  },
  {
   "cell_type": "code",
   "execution_count": 36,
   "metadata": {},
   "outputs": [
    {
     "name": "stdout",
     "output_type": "stream",
     "text": [
      "CPU times: total: 16 s\n",
      "Wall time: 16.1 s\n"
     ]
    },
    {
     "data": {
      "text/plain": [
       "<bound method NDFrame.head of           Date  Composite_HPI_SA  Single_Family_HPI_SA  One_Storey_HPI_SA   \n",
       "0   2005-01-01             100.0                 100.0              100.0  \\\n",
       "1   2005-02-01             100.6                 100.5              100.8   \n",
       "2   2005-03-01             101.4                 101.2              102.0   \n",
       "3   2005-04-01             101.9                 101.8              102.8   \n",
       "4   2005-05-01             102.6                 102.3              103.6   \n",
       "..         ...               ...                   ...                ...   \n",
       "216 2023-01-01             214.7                 215.7              231.6   \n",
       "217 2023-02-01             214.9                 215.8              231.0   \n",
       "218 2023-03-01             213.6                 214.7              228.6   \n",
       "219 2023-04-01             215.0                 215.9              230.2   \n",
       "220 2023-05-01             216.6                 217.6              230.6   \n",
       "\n",
       "     Two_Storey_HPI_SA  Townhouse_HPI_SA  Apartment_HPI_SA   \n",
       "0                100.0             100.0             100.0  \\\n",
       "1                100.3             100.7             101.0   \n",
       "2                100.6             101.3             102.2   \n",
       "3                101.0             101.9             102.9   \n",
       "4                101.4             102.5             103.7   \n",
       "..                 ...               ...               ...   \n",
       "216              204.7             200.8             214.6   \n",
       "217              206.3             199.0             212.1   \n",
       "218              205.5             200.8             207.9   \n",
       "219              207.7             209.1             206.4   \n",
       "220              211.0             219.5             209.8   \n",
       "\n",
       "     Composite_Benchmark_SA  Single_Family_Benchmark_SA   \n",
       "0                    294700                      368300  \\\n",
       "1                    296600                      370200   \n",
       "2                    298700                      372700   \n",
       "3                    300400                      374800   \n",
       "4                    302300                      376900   \n",
       "..                      ...                         ...   \n",
       "216                  280200                      281900   \n",
       "217                  280400                      282000   \n",
       "218                  278800                      280600   \n",
       "219                  280600                      282200   \n",
       "220                  282600                      284400   \n",
       "\n",
       "     One_Storey_Benchmark_SA  Two_Storey_Benchmark_SA  Townhouse_Benchmark_SA   \n",
       "0                     287300                   469000                243100.0  \\\n",
       "1                     289500                   470500                244900.0   \n",
       "2                     293000                   471700                246300.0   \n",
       "3                     295400                   473500                247600.0   \n",
       "4                     297500                   475400                249100.0   \n",
       "..                       ...                      ...                     ...   \n",
       "216                   262400                   317500                260100.0   \n",
       "217                   261700                   319900                257700.0   \n",
       "218                   259000                   318800                260000.0   \n",
       "219                   260800                   322100                270800.0   \n",
       "220                   261300                   327200                284200.0   \n",
       "\n",
       "     Apartment_Benchmark_SA                   Location  \n",
       "0                  190200.0           BRITISH_COLUMBIA  \n",
       "1                  192100.0           BRITISH_COLUMBIA  \n",
       "2                  194400.0           BRITISH_COLUMBIA  \n",
       "3                  195700.0           BRITISH_COLUMBIA  \n",
       "4                  197200.0           BRITISH_COLUMBIA  \n",
       "..                      ...                        ...  \n",
       "216                231100.0  NEWFOUNDLAND_AND_LABRADOR  \n",
       "217                228400.0  NEWFOUNDLAND_AND_LABRADOR  \n",
       "218                223900.0  NEWFOUNDLAND_AND_LABRADOR  \n",
       "219                222300.0  NEWFOUNDLAND_AND_LABRADOR  \n",
       "220                226000.0  NEWFOUNDLAND_AND_LABRADOR  \n",
       "\n",
       "[2210 rows x 14 columns]>"
      ]
     },
     "execution_count": 36,
     "metadata": {},
     "output_type": "execute_result"
    }
   ],
   "source": [
    "%%time\n",
    "import pandas as pd\n",
    "xls = pd.ExcelFile('./Housing_Prices_2005_2023.xlsx')\n",
    "df = pd.DataFrame()\n",
    "cities_df = pd.DataFrame()\n",
    "#run through all the sheets in file\n",
    "for sheet in xls.sheet_names:\n",
    "    sheet_df=pd.read_excel('Housing_Prices_2005_2023.xlsx', sheet_name=sheet)\n",
    "    province = ['BRITISH_COLUMBIA','ALBERTA','SASKATCHEWAN', 'WINNIPEG', 'ONTARIO','QUEBEC','NOVA_SCOTIA','PRINCE_EDWARD_ISLAND','NEWFOUNDLAND_AND_LABRADOR','NEW_BRUNSWICK']\n",
    "    if sheet in province:\n",
    "        # There is no Manitoba in dataset but Winniped present as only city for this province\n",
    "        sheet = 'MANITOBA' if sheet== 'WINNIPEG' else sheet\n",
    "        sheet_df['Location'] = sheet\n",
    "        df = pd.concat([df,sheet_df])\n",
    "    else:\n",
    "        sheet_df['Location'] = sheet    \n",
    "        cities_df = pd.concat([cities_df,sheet_df])\n",
    "df.head\n"
   ]
  },
  {
   "cell_type": "code",
   "execution_count": 37,
   "metadata": {},
   "outputs": [
    {
     "data": {
      "text/plain": [
       "Index(['Date', 'Composite_HPI_SA', 'Single_Family_HPI_SA', 'One_Storey_HPI_SA',\n",
       "       'Two_Storey_HPI_SA', 'Townhouse_HPI_SA', 'Apartment_HPI_SA',\n",
       "       'Composite_Benchmark_SA', 'Single_Family_Benchmark_SA',\n",
       "       'One_Storey_Benchmark_SA', 'Two_Storey_Benchmark_SA',\n",
       "       'Townhouse_Benchmark_SA', 'Apartment_Benchmark_SA', 'Location'],\n",
       "      dtype='object')"
      ]
     },
     "execution_count": 37,
     "metadata": {},
     "output_type": "execute_result"
    }
   ],
   "source": [
    "df.columns\n"
   ]
  },
  {
   "cell_type": "code",
   "execution_count": 38,
   "metadata": {},
   "outputs": [
    {
     "data": {
      "text/plain": [
       "(2210, 14)"
      ]
     },
     "execution_count": 38,
     "metadata": {},
     "output_type": "execute_result"
    }
   ],
   "source": [
    "df.shape"
   ]
  },
  {
   "cell_type": "code",
   "execution_count": 39,
   "metadata": {},
   "outputs": [
    {
     "name": "stdout",
     "output_type": "stream",
     "text": [
      "CPU times: total: 0 ns\n",
      "Wall time: 0 ns\n"
     ]
    },
    {
     "data": {
      "text/plain": [
       "Index(['Date', 'Single_Family_Benchmark_SA', 'One_Storey_Benchmark_SA',\n",
       "       'Two_Storey_Benchmark_SA', 'Townhouse_Benchmark_SA',\n",
       "       'Apartment_Benchmark_SA', 'Location'],\n",
       "      dtype='object')"
      ]
     },
     "execution_count": 39,
     "metadata": {},
     "output_type": "execute_result"
    }
   ],
   "source": [
    "%time\n",
    "df.drop('Composite_HPI_SA', axis=1,inplace=True)\n",
    "df.drop('Single_Family_HPI_SA', axis=1,inplace=True)\n",
    "df.drop('One_Storey_HPI_SA', axis=1,inplace=True)\n",
    "df.drop('Two_Storey_HPI_SA', axis=1,inplace=True)\n",
    "df.drop('Townhouse_HPI_SA', axis=1,inplace=True)\n",
    "df.drop('Apartment_HPI_SA', axis=1,inplace=True)\n",
    "df.drop('Composite_Benchmark_SA', axis=1,inplace=True)\n",
    "\n",
    "df.columns\n"
   ]
  },
  {
   "cell_type": "code",
   "execution_count": 40,
   "metadata": {},
   "outputs": [],
   "source": [
    "df = df.rename(columns={'Single_Family_Benchmark_SA': 'Single_Family', \n",
    "                        'One_Storey_Benchmark_SA': 'One_Storey',\n",
    "                        'Two_Storey_Benchmark_SA': 'Two_Storey',\n",
    "                        'Townhouse_Benchmark_SA' : 'Townhouse',\n",
    "                        'Apartment_Benchmark_SA' : 'Apartment'\n",
    "                        })"
   ]
  },
  {
   "cell_type": "code",
   "execution_count": 41,
   "metadata": {},
   "outputs": [
    {
     "data": {
      "text/plain": [
       "(2210, 7)"
      ]
     },
     "execution_count": 41,
     "metadata": {},
     "output_type": "execute_result"
    }
   ],
   "source": [
    "df.shape"
   ]
  },
  {
   "cell_type": "code",
   "execution_count": 42,
   "metadata": {},
   "outputs": [
    {
     "name": "stdout",
     "output_type": "stream",
     "text": [
      "CPU times: total: 0 ns\n",
      "Wall time: 3 ms\n"
     ]
    }
   ],
   "source": [
    "%%time\n",
    "df.drop_duplicates(inplace = True)"
   ]
  },
  {
   "cell_type": "code",
   "execution_count": 43,
   "metadata": {},
   "outputs": [
    {
     "data": {
      "text/plain": [
       "(2210, 7)"
      ]
     },
     "execution_count": 43,
     "metadata": {},
     "output_type": "execute_result"
    }
   ],
   "source": [
    "df.shape"
   ]
  },
  {
   "cell_type": "code",
   "execution_count": 44,
   "metadata": {},
   "outputs": [
    {
     "data": {
      "text/html": [
       "<div>\n",
       "<style scoped>\n",
       "    .dataframe tbody tr th:only-of-type {\n",
       "        vertical-align: middle;\n",
       "    }\n",
       "\n",
       "    .dataframe tbody tr th {\n",
       "        vertical-align: top;\n",
       "    }\n",
       "\n",
       "    .dataframe thead th {\n",
       "        text-align: right;\n",
       "    }\n",
       "</style>\n",
       "<table border=\"1\" class=\"dataframe\">\n",
       "  <thead>\n",
       "    <tr style=\"text-align: right;\">\n",
       "      <th></th>\n",
       "      <th>Date</th>\n",
       "      <th>Location</th>\n",
       "      <th>House_type</th>\n",
       "      <th>Benchmark_Price</th>\n",
       "    </tr>\n",
       "  </thead>\n",
       "  <tbody>\n",
       "    <tr>\n",
       "      <th>0</th>\n",
       "      <td>2005-01-01</td>\n",
       "      <td>BRITISH_COLUMBIA</td>\n",
       "      <td>Single_Family</td>\n",
       "      <td>368300.0</td>\n",
       "    </tr>\n",
       "    <tr>\n",
       "      <th>1</th>\n",
       "      <td>2005-02-01</td>\n",
       "      <td>BRITISH_COLUMBIA</td>\n",
       "      <td>Single_Family</td>\n",
       "      <td>370200.0</td>\n",
       "    </tr>\n",
       "    <tr>\n",
       "      <th>2</th>\n",
       "      <td>2005-03-01</td>\n",
       "      <td>BRITISH_COLUMBIA</td>\n",
       "      <td>Single_Family</td>\n",
       "      <td>372700.0</td>\n",
       "    </tr>\n",
       "    <tr>\n",
       "      <th>3</th>\n",
       "      <td>2005-04-01</td>\n",
       "      <td>BRITISH_COLUMBIA</td>\n",
       "      <td>Single_Family</td>\n",
       "      <td>374800.0</td>\n",
       "    </tr>\n",
       "    <tr>\n",
       "      <th>4</th>\n",
       "      <td>2005-05-01</td>\n",
       "      <td>BRITISH_COLUMBIA</td>\n",
       "      <td>Single_Family</td>\n",
       "      <td>376900.0</td>\n",
       "    </tr>\n",
       "    <tr>\n",
       "      <th>5</th>\n",
       "      <td>2005-06-01</td>\n",
       "      <td>BRITISH_COLUMBIA</td>\n",
       "      <td>Single_Family</td>\n",
       "      <td>378900.0</td>\n",
       "    </tr>\n",
       "    <tr>\n",
       "      <th>6</th>\n",
       "      <td>2005-07-01</td>\n",
       "      <td>BRITISH_COLUMBIA</td>\n",
       "      <td>Single_Family</td>\n",
       "      <td>385500.0</td>\n",
       "    </tr>\n",
       "    <tr>\n",
       "      <th>7</th>\n",
       "      <td>2005-08-01</td>\n",
       "      <td>BRITISH_COLUMBIA</td>\n",
       "      <td>Single_Family</td>\n",
       "      <td>391300.0</td>\n",
       "    </tr>\n",
       "    <tr>\n",
       "      <th>8</th>\n",
       "      <td>2005-09-01</td>\n",
       "      <td>BRITISH_COLUMBIA</td>\n",
       "      <td>Single_Family</td>\n",
       "      <td>397600.0</td>\n",
       "    </tr>\n",
       "    <tr>\n",
       "      <th>9</th>\n",
       "      <td>2005-10-01</td>\n",
       "      <td>BRITISH_COLUMBIA</td>\n",
       "      <td>Single_Family</td>\n",
       "      <td>403200.0</td>\n",
       "    </tr>\n",
       "    <tr>\n",
       "      <th>10</th>\n",
       "      <td>2005-11-01</td>\n",
       "      <td>BRITISH_COLUMBIA</td>\n",
       "      <td>Single_Family</td>\n",
       "      <td>409600.0</td>\n",
       "    </tr>\n",
       "    <tr>\n",
       "      <th>11</th>\n",
       "      <td>2005-12-01</td>\n",
       "      <td>BRITISH_COLUMBIA</td>\n",
       "      <td>Single_Family</td>\n",
       "      <td>416200.0</td>\n",
       "    </tr>\n",
       "    <tr>\n",
       "      <th>12</th>\n",
       "      <td>2006-01-01</td>\n",
       "      <td>BRITISH_COLUMBIA</td>\n",
       "      <td>Single_Family</td>\n",
       "      <td>421900.0</td>\n",
       "    </tr>\n",
       "    <tr>\n",
       "      <th>13</th>\n",
       "      <td>2006-02-01</td>\n",
       "      <td>BRITISH_COLUMBIA</td>\n",
       "      <td>Single_Family</td>\n",
       "      <td>428300.0</td>\n",
       "    </tr>\n",
       "    <tr>\n",
       "      <th>14</th>\n",
       "      <td>2006-03-01</td>\n",
       "      <td>BRITISH_COLUMBIA</td>\n",
       "      <td>Single_Family</td>\n",
       "      <td>433700.0</td>\n",
       "    </tr>\n",
       "    <tr>\n",
       "      <th>15</th>\n",
       "      <td>2006-04-01</td>\n",
       "      <td>BRITISH_COLUMBIA</td>\n",
       "      <td>Single_Family</td>\n",
       "      <td>440000.0</td>\n",
       "    </tr>\n",
       "    <tr>\n",
       "      <th>16</th>\n",
       "      <td>2006-05-01</td>\n",
       "      <td>BRITISH_COLUMBIA</td>\n",
       "      <td>Single_Family</td>\n",
       "      <td>446400.0</td>\n",
       "    </tr>\n",
       "    <tr>\n",
       "      <th>17</th>\n",
       "      <td>2006-06-01</td>\n",
       "      <td>BRITISH_COLUMBIA</td>\n",
       "      <td>Single_Family</td>\n",
       "      <td>452000.0</td>\n",
       "    </tr>\n",
       "    <tr>\n",
       "      <th>18</th>\n",
       "      <td>2006-07-01</td>\n",
       "      <td>BRITISH_COLUMBIA</td>\n",
       "      <td>Single_Family</td>\n",
       "      <td>457800.0</td>\n",
       "    </tr>\n",
       "    <tr>\n",
       "      <th>19</th>\n",
       "      <td>2006-08-01</td>\n",
       "      <td>BRITISH_COLUMBIA</td>\n",
       "      <td>Single_Family</td>\n",
       "      <td>463500.0</td>\n",
       "    </tr>\n",
       "  </tbody>\n",
       "</table>\n",
       "</div>"
      ],
      "text/plain": [
       "         Date          Location     House_type  Benchmark_Price\n",
       "0  2005-01-01  BRITISH_COLUMBIA  Single_Family         368300.0\n",
       "1  2005-02-01  BRITISH_COLUMBIA  Single_Family         370200.0\n",
       "2  2005-03-01  BRITISH_COLUMBIA  Single_Family         372700.0\n",
       "3  2005-04-01  BRITISH_COLUMBIA  Single_Family         374800.0\n",
       "4  2005-05-01  BRITISH_COLUMBIA  Single_Family         376900.0\n",
       "5  2005-06-01  BRITISH_COLUMBIA  Single_Family         378900.0\n",
       "6  2005-07-01  BRITISH_COLUMBIA  Single_Family         385500.0\n",
       "7  2005-08-01  BRITISH_COLUMBIA  Single_Family         391300.0\n",
       "8  2005-09-01  BRITISH_COLUMBIA  Single_Family         397600.0\n",
       "9  2005-10-01  BRITISH_COLUMBIA  Single_Family         403200.0\n",
       "10 2005-11-01  BRITISH_COLUMBIA  Single_Family         409600.0\n",
       "11 2005-12-01  BRITISH_COLUMBIA  Single_Family         416200.0\n",
       "12 2006-01-01  BRITISH_COLUMBIA  Single_Family         421900.0\n",
       "13 2006-02-01  BRITISH_COLUMBIA  Single_Family         428300.0\n",
       "14 2006-03-01  BRITISH_COLUMBIA  Single_Family         433700.0\n",
       "15 2006-04-01  BRITISH_COLUMBIA  Single_Family         440000.0\n",
       "16 2006-05-01  BRITISH_COLUMBIA  Single_Family         446400.0\n",
       "17 2006-06-01  BRITISH_COLUMBIA  Single_Family         452000.0\n",
       "18 2006-07-01  BRITISH_COLUMBIA  Single_Family         457800.0\n",
       "19 2006-08-01  BRITISH_COLUMBIA  Single_Family         463500.0"
      ]
     },
     "execution_count": 44,
     "metadata": {},
     "output_type": "execute_result"
    }
   ],
   "source": [
    "#convert some columns into rows\n",
    "df=df.melt(id_vars = ['Date','Location'], var_name ='House_type', value_name='Benchmark_Price')\n",
    "df.head(20)"
   ]
  },
  {
   "cell_type": "code",
   "execution_count": 45,
   "metadata": {},
   "outputs": [
    {
     "name": "stdout",
     "output_type": "stream",
     "text": [
      "Date                 0\n",
      "Location             0\n",
      "House_type           0\n",
      "Benchmark_Price    442\n",
      "dtype: int64\n"
     ]
    }
   ],
   "source": [
    "#Is there any null values in dataset\n",
    "total = df.isnull().sum()\n",
    "print(total)"
   ]
  },
  {
   "attachments": {},
   "cell_type": "markdown",
   "metadata": {},
   "source": [
    "442 Benchmark Prices with Null values found "
   ]
  },
  {
   "cell_type": "code",
   "execution_count": 46,
   "metadata": {},
   "outputs": [
    {
     "data": {
      "text/html": [
       "<div>\n",
       "<style scoped>\n",
       "    .dataframe tbody tr th:only-of-type {\n",
       "        vertical-align: middle;\n",
       "    }\n",
       "\n",
       "    .dataframe tbody tr th {\n",
       "        vertical-align: top;\n",
       "    }\n",
       "\n",
       "    .dataframe thead th {\n",
       "        text-align: right;\n",
       "    }\n",
       "</style>\n",
       "<table border=\"1\" class=\"dataframe\">\n",
       "  <thead>\n",
       "    <tr style=\"text-align: right;\">\n",
       "      <th></th>\n",
       "      <th>Date</th>\n",
       "      <th>Location</th>\n",
       "      <th>House_type</th>\n",
       "      <th>Benchmark_Price</th>\n",
       "    </tr>\n",
       "  </thead>\n",
       "  <tbody>\n",
       "    <tr>\n",
       "      <th>8398</th>\n",
       "      <td>2005-01-01</td>\n",
       "      <td>PRINCE_EDWARD_ISLAND</td>\n",
       "      <td>Townhouse</td>\n",
       "      <td>NaN</td>\n",
       "    </tr>\n",
       "    <tr>\n",
       "      <th>8399</th>\n",
       "      <td>2005-02-01</td>\n",
       "      <td>PRINCE_EDWARD_ISLAND</td>\n",
       "      <td>Townhouse</td>\n",
       "      <td>NaN</td>\n",
       "    </tr>\n",
       "    <tr>\n",
       "      <th>8400</th>\n",
       "      <td>2005-03-01</td>\n",
       "      <td>PRINCE_EDWARD_ISLAND</td>\n",
       "      <td>Townhouse</td>\n",
       "      <td>NaN</td>\n",
       "    </tr>\n",
       "    <tr>\n",
       "      <th>8401</th>\n",
       "      <td>2005-04-01</td>\n",
       "      <td>PRINCE_EDWARD_ISLAND</td>\n",
       "      <td>Townhouse</td>\n",
       "      <td>NaN</td>\n",
       "    </tr>\n",
       "    <tr>\n",
       "      <th>8402</th>\n",
       "      <td>2005-05-01</td>\n",
       "      <td>PRINCE_EDWARD_ISLAND</td>\n",
       "      <td>Townhouse</td>\n",
       "      <td>NaN</td>\n",
       "    </tr>\n",
       "    <tr>\n",
       "      <th>8403</th>\n",
       "      <td>2005-06-01</td>\n",
       "      <td>PRINCE_EDWARD_ISLAND</td>\n",
       "      <td>Townhouse</td>\n",
       "      <td>NaN</td>\n",
       "    </tr>\n",
       "    <tr>\n",
       "      <th>8404</th>\n",
       "      <td>2005-07-01</td>\n",
       "      <td>PRINCE_EDWARD_ISLAND</td>\n",
       "      <td>Townhouse</td>\n",
       "      <td>NaN</td>\n",
       "    </tr>\n",
       "    <tr>\n",
       "      <th>8405</th>\n",
       "      <td>2005-08-01</td>\n",
       "      <td>PRINCE_EDWARD_ISLAND</td>\n",
       "      <td>Townhouse</td>\n",
       "      <td>NaN</td>\n",
       "    </tr>\n",
       "    <tr>\n",
       "      <th>8406</th>\n",
       "      <td>2005-09-01</td>\n",
       "      <td>PRINCE_EDWARD_ISLAND</td>\n",
       "      <td>Townhouse</td>\n",
       "      <td>NaN</td>\n",
       "    </tr>\n",
       "    <tr>\n",
       "      <th>8407</th>\n",
       "      <td>2005-10-01</td>\n",
       "      <td>PRINCE_EDWARD_ISLAND</td>\n",
       "      <td>Townhouse</td>\n",
       "      <td>NaN</td>\n",
       "    </tr>\n",
       "  </tbody>\n",
       "</table>\n",
       "</div>"
      ],
      "text/plain": [
       "           Date              Location House_type  Benchmark_Price\n",
       "8398 2005-01-01  PRINCE_EDWARD_ISLAND  Townhouse              NaN\n",
       "8399 2005-02-01  PRINCE_EDWARD_ISLAND  Townhouse              NaN\n",
       "8400 2005-03-01  PRINCE_EDWARD_ISLAND  Townhouse              NaN\n",
       "8401 2005-04-01  PRINCE_EDWARD_ISLAND  Townhouse              NaN\n",
       "8402 2005-05-01  PRINCE_EDWARD_ISLAND  Townhouse              NaN\n",
       "8403 2005-06-01  PRINCE_EDWARD_ISLAND  Townhouse              NaN\n",
       "8404 2005-07-01  PRINCE_EDWARD_ISLAND  Townhouse              NaN\n",
       "8405 2005-08-01  PRINCE_EDWARD_ISLAND  Townhouse              NaN\n",
       "8406 2005-09-01  PRINCE_EDWARD_ISLAND  Townhouse              NaN\n",
       "8407 2005-10-01  PRINCE_EDWARD_ISLAND  Townhouse              NaN"
      ]
     },
     "execution_count": 46,
     "metadata": {},
     "output_type": "execute_result"
    }
   ],
   "source": [
    "df2 = df[df['Benchmark_Price'].isnull()]\n",
    "df2.head(10)"
   ]
  },
  {
   "cell_type": "code",
   "execution_count": 47,
   "metadata": {},
   "outputs": [
    {
     "data": {
      "text/plain": [
       "array(['PRINCE_EDWARD_ISLAND'], dtype=object)"
      ]
     },
     "execution_count": 47,
     "metadata": {},
     "output_type": "execute_result"
    }
   ],
   "source": [
    "\n",
    "df2['Location'].unique()"
   ]
  },
  {
   "cell_type": "code",
   "execution_count": 48,
   "metadata": {},
   "outputs": [
    {
     "data": {
      "text/plain": [
       "array(['Townhouse', 'Apartment'], dtype=object)"
      ]
     },
     "execution_count": 48,
     "metadata": {},
     "output_type": "execute_result"
    }
   ],
   "source": [
    "df2['House_type'].unique()"
   ]
  },
  {
   "attachments": {},
   "cell_type": "markdown",
   "metadata": {},
   "source": [
    "Considering the provided information, assuming there are null values in the records of Townhouses and Apartments in PRINCE_EDWARD_ISLANDS, in order to establish benchmark prices, we will proceed by assigning a value of 0 to all those null entries.\n",
    " "
   ]
  },
  {
   "cell_type": "code",
   "execution_count": 49,
   "metadata": {},
   "outputs": [],
   "source": [
    "df['Benchmark_Price'] = df['Benchmark_Price'].fillna(0)"
   ]
  },
  {
   "cell_type": "code",
   "execution_count": 50,
   "metadata": {},
   "outputs": [
    {
     "name": "stdout",
     "output_type": "stream",
     "text": [
      "Date               0\n",
      "Location           0\n",
      "House_type         0\n",
      "Benchmark_Price    0\n",
      "dtype: int64\n"
     ]
    }
   ],
   "source": [
    "# Lets make sure no more null values\n",
    "total = df.isnull().sum()\n",
    "print(total)"
   ]
  },
  {
   "attachments": {},
   "cell_type": "markdown",
   "metadata": {},
   "source": [
    "There are no more null values in data set"
   ]
  },
  {
   "cell_type": "code",
   "execution_count": 51,
   "metadata": {},
   "outputs": [],
   "source": [
    "import pyodbc\n",
    "\n",
    "cnxn = pyodbc.connect(\n",
    "      r'Driver=SQL Server;'\n",
    "    r'Server=xxxxx;'\n",
    "    r'Database=Housing;'\n",
    "    r'Trusted_Connection=yes;')\n",
    "  \n",
    "cursor = cnxn.cursor()\n",
    "province = df['Location'].unique()\n",
    "type = df['House_type'].unique()\n",
    "\n",
    "codes =['BC','AB','SK','MB','ON','QC','NB','NS','PE','NL']\n",
    "values=list(zip(codes,province))\n",
    "\n",
    "sql = \"INSERT INTO PROVINCE (ProvinceCode,Name) VALUES (?,?)\"\n",
    "try:\n",
    "    cursor.executemany(sql,values)\n",
    "    cursor.commit()\n",
    "except:\n",
    "    pass  \n",
    "\n",
    "sql = \"INSERT INTO HouseType (Name) VALUES (?)\"\n",
    "try:\n",
    "    cursor.executemany(sql,list(zip(type)))\n",
    "    cursor.commit()\n",
    "except:\n",
    "    pass     \n",
    "df.columns\n",
    "for row in df.itertuples():\n",
    "    # get the related tables related Id's for referencial intergraion\n",
    "    try:\n",
    "        cursor.execute('select TypeID from HouseType where Name = ?',row[3])\n",
    "        type = cursor.fetchone()[0]\n",
    "    except:\n",
    "        pass    \n",
    "    try:\n",
    "        cursor.execute('select ProvinceID from Province where Name = ?',row[2])\n",
    "        prov = cursor.fetchone()[0]\n",
    "    except:    \n",
    "        pass\n",
    "    try:\n",
    "        cursor.execute('select MortgageRateID from MortgageRates where str(Year(Date))=? and str(Month(Date)) =?',(row[5],row[6]))\n",
    "        rates = cursor.fetchone()[0]\n",
    "    except:\n",
    "        pass    \n",
    "    try:\n",
    "        cursor.execute('select InflationID from Inflation where str(Year(Date))=? ',row[5])\n",
    "        inf = cursor.fetchone()[0]\n",
    "    except:\n",
    "        pass\n",
    "    try:    \n",
    "        cursor.execute('select GdpID from CanadaGDP where str(Year(Date))=? ',row[5])\n",
    "        gdp = cursor.fetchone()[0]\n",
    "    except:\n",
    "        pass    \n",
    "\n",
    "\n",
    "\n",
    "    sql = \"INSERT INTO HousePrices (Date,HouseType,MortgageRates,GDP,Inflation,Province,BenchMarkPrice) VALUES(?,?,?,?,?,?,?)\"\n",
    "    try:\n",
    "        cursor.execute(sql,row[1],type,rates,gdp,inf,prov,row[4])\n",
    "        cursor.commit()\n",
    "    except:\n",
    "        pass\n",
    "\n",
    "cursor.close()\n"
   ]
  }
 ],
 "metadata": {
  "kernelspec": {
   "display_name": "Python 3",
   "language": "python",
   "name": "python3"
  },
  "language_info": {
   "codemirror_mode": {
    "name": "ipython",
    "version": 3
   },
   "file_extension": ".py",
   "mimetype": "text/x-python",
   "name": "python",
   "nbconvert_exporter": "python",
   "pygments_lexer": "ipython3",
   "version": "3.10.10"
  },
  "orig_nbformat": 4
 },
 "nbformat": 4,
 "nbformat_minor": 2
}
