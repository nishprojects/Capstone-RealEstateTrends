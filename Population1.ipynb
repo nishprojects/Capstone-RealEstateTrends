{
 "cells": [
  {
   "cell_type": "code",
   "execution_count": null,
   "metadata": {},
   "outputs": [],
   "source": [
    "import pandas as pd\n",
    "import os\n",
    "os.chdir('C:/Users/928996/Desktop/Capstone Project/datasets')\n",
    "\n",
    "df = pd.read_excel(\"population (1).xlsx\", sheet_name = \"Data\")\n",
    "df"
   ]
  },
  {
   "attachments": {},
   "cell_type": "markdown",
   "metadata": {},
   "source": [
    "Dropping 'null' and 'nan' values"
   ]
  },
  {
   "cell_type": "code",
   "execution_count": null,
   "metadata": {},
   "outputs": [],
   "source": [
    "df.dropna(inplace = True)\n",
    "df"
   ]
  },
  {
   "attachments": {},
   "cell_type": "markdown",
   "metadata": {},
   "source": [
    "Dropping range of rows that are not going to be used for analysing"
   ]
  },
  {
   "cell_type": "code",
   "execution_count": null,
   "metadata": {},
   "outputs": [],
   "source": [
    "df.drop(range(22,238), inplace=True)\n",
    "df.reset_index(drop=True, inplace=True)\n",
    "df"
   ]
  },
  {
   "attachments": {},
   "cell_type": "markdown",
   "metadata": {},
   "source": [
    "Renaming column 'When' to 'Date'"
   ]
  },
  {
   "cell_type": "code",
   "execution_count": null,
   "metadata": {},
   "outputs": [],
   "source": [
    "df.rename(columns={'When':'Date','Alberta':'ALBERTA', 'BritishColumbia':'BRITISH_COLUMBIA', 'Manitoba':'MANITOBA','NewBrunswick':'NEW_BRUNSWICK','NewfoundlandAndLabrador':'NEWFOUNDLAND_AND_LABRADOR', 'NovaScotia':'NOVA_SCOTIA','Ontario': 'ONTARIO', 'PrinceEdwardIsland': 'PRINCE_EDWARD_ISLAND','Quebec':'QUEBEC', 'Saskatchewan':'SASKATCHEWAN'},inplace = True)\n",
    "df"
   ]
  },
  {
   "attachments": {},
   "cell_type": "markdown",
   "metadata": {},
   "source": [
    "Reshaping the DataFrame by combining miltiple columns in one column. "
   ]
  },
  {
   "cell_type": "code",
   "execution_count": null,
   "metadata": {},
   "outputs": [],
   "source": [
    "df3 = df.melt(id_vars = ['Date'],\n",
    "        var_name = 'Location', \n",
    "         value_name = 'Population' )\n",
    "df3"
   ]
  },
  {
   "cell_type": "code",
   "execution_count": null,
   "metadata": {},
   "outputs": [],
   "source": [
    "df3 = df3.drop(df3[df3['Location'] == 'Canada'].index)\n",
    "df3"
   ]
  },
  {
   "cell_type": "code",
   "execution_count": null,
   "metadata": {},
   "outputs": [],
   "source": [
    "import pandas as pd\n",
    "import os\n",
    "os.chdir('C:/Users/928996/Desktop/Capstone Project/datasets')\n",
    "\n",
    "df2 = pd.read_csv(\"population-by-region-1946-2022.csv\")\n",
    "df2"
   ]
  },
  {
   "attachments": {},
   "cell_type": "markdown",
   "metadata": {},
   "source": [
    "Checking for duplicates"
   ]
  },
  {
   "cell_type": "code",
   "execution_count": null,
   "metadata": {},
   "outputs": [],
   "source": [
    "print(df2.duplicated())\n"
   ]
  },
  {
   "attachments": {},
   "cell_type": "markdown",
   "metadata": {},
   "source": [
    "Dropping unnecessesary columns. "
   ]
  },
  {
   "cell_type": "code",
   "execution_count": null,
   "metadata": {},
   "outputs": [],
   "source": [
    "df2 = df2.drop(['DGUID', 'VECTOR', 'COORDINATE'], axis=1)\n",
    "df2"
   ]
  },
  {
   "attachments": {},
   "cell_type": "markdown",
   "metadata": {},
   "source": [
    "Renaiming columns. "
   ]
  },
  {
   "cell_type": "code",
   "execution_count": null,
   "metadata": {},
   "outputs": [],
   "source": [
    "df2.rename(columns={'REF_DATE':'Date', 'GEO':'Location', 'Population estimate': 'Population'},inplace = True)\n",
    "df2"
   ]
  },
  {
   "attachments": {},
   "cell_type": "markdown",
   "metadata": {},
   "source": [
    "Renaiming existing values in a row. "
   ]
  },
  {
   "cell_type": "code",
   "execution_count": null,
   "metadata": {},
   "outputs": [],
   "source": [
    "row_names = {'Alberta':'ALBERTA', 'British Columbia':'BRITISH_COLUMBIA', 'Manitoba':'MANITOBA','New Brunswick':'NEW_BRUNSWICK','Newfoundland and Labrador':'NEWFOUNDLAND_AND_LABRADOR', 'Nova Scotia':'NOVA_SCOTIA','Ontario': 'ONTARIO', 'Prince Edward Island': 'PRINCE_EDWARD_ISLAND','Quebec':'QUEBEC', 'Saskatchewan':'SASKATCHEWAN'}\n",
    "newdf2 = df2.rename(index = row_names)\n",
    "newdf2\n"
   ]
  },
  {
   "cell_type": "code",
   "execution_count": null,
   "metadata": {},
   "outputs": [],
   "source": [
    "df2=df2.replace({'Location':{'Alberta':'ALBERTA','British Columbia':'BRITISH_COLUMBIA','Manitoba':'MANITOBA','New Brunswick':'NEW_BRUNSWICK','Newfoundland and Labrador':'NEWFOUNDLAND_AND_LABRADOR', 'Nova Scotia':'NOVA_SCOTIA','Ontario': 'ONTARIO','Prince Edward Island': 'PRINCE_EDWARD_ISLAND','Quebec':'QUEBEC','Saskatchewan':'SASKATCHEWAN'}})\n",
    "df2"
   ]
  },
  {
   "attachments": {},
   "cell_type": "markdown",
   "metadata": {},
   "source": [
    "Dropping values from 'Location' column. "
   ]
  },
  {
   "cell_type": "code",
   "execution_count": null,
   "metadata": {},
   "outputs": [],
   "source": [
    "df2 = df2.drop(df2[df2['Location'] == 'Canada'].index)\n",
    "df2"
   ]
  },
  {
   "cell_type": "code",
   "execution_count": null,
   "metadata": {},
   "outputs": [],
   "source": [
    "df2 = df2.drop(df2[(df2['Location'] == 'Yukon')].index)\n",
    "df2"
   ]
  },
  {
   "cell_type": "code",
   "execution_count": null,
   "metadata": {},
   "outputs": [],
   "source": [
    "df2 = df2.drop(df2[(df2['Location'] == 'Nunavut')].index)\n",
    "df2"
   ]
  },
  {
   "cell_type": "code",
   "execution_count": null,
   "metadata": {},
   "outputs": [],
   "source": [
    "df2 = df2.drop(df2[(df2['Location'] == 'Northwest Territories')].index)\n",
    "df2"
   ]
  },
  {
   "attachments": {},
   "cell_type": "markdown",
   "metadata": {},
   "source": [
    "Rearranging rows. "
   ]
  },
  {
   "cell_type": "code",
   "execution_count": null,
   "metadata": {},
   "outputs": [],
   "source": [
    "df2.reset_index(drop=True, inplace=True)\n",
    "df2"
   ]
  },
  {
   "attachments": {},
   "cell_type": "markdown",
   "metadata": {},
   "source": [
    "Looking for specific date in order to drop unnecessary values prior that date"
   ]
  },
  {
   "cell_type": "code",
   "execution_count": null,
   "metadata": {},
   "outputs": [],
   "source": [
    "df2.loc[df2['Date'] == 'Oct-15']\n"
   ]
  },
  {
   "cell_type": "code",
   "execution_count": null,
   "metadata": {},
   "outputs": [],
   "source": [
    "df2.drop(range(0,2731), inplace=True)\n",
    "df2.reset_index(drop=True, inplace=True)\n",
    "df2"
   ]
  },
  {
   "attachments": {},
   "cell_type": "markdown",
   "metadata": {},
   "source": [
    "Checking the number of the rows before and after the changes. "
   ]
  },
  {
   "cell_type": "code",
   "execution_count": null,
   "metadata": {},
   "outputs": [],
   "source": [
    "df3.shape"
   ]
  },
  {
   "cell_type": "code",
   "execution_count": null,
   "metadata": {},
   "outputs": [],
   "source": [
    "df2.shape"
   ]
  },
  {
   "attachments": {},
   "cell_type": "markdown",
   "metadata": {},
   "source": [
    "Merging two DataFrames. "
   ]
  },
  {
   "cell_type": "code",
   "execution_count": null,
   "metadata": {},
   "outputs": [],
   "source": [
    "newdf = pd.concat([df3, df2])\n",
    "newdf\n"
   ]
  },
  {
   "attachments": {},
   "cell_type": "markdown",
   "metadata": {},
   "source": [
    "Creating visual. "
   ]
  },
  {
   "cell_type": "code",
   "execution_count": null,
   "metadata": {},
   "outputs": [],
   "source": [
    "import matplotlib as plt"
   ]
  },
  {
   "cell_type": "code",
   "execution_count": null,
   "metadata": {},
   "outputs": [],
   "source": [
    "import matplotlib\n",
    "matplotlib.__version__"
   ]
  },
  {
   "cell_type": "code",
   "execution_count": null,
   "metadata": {},
   "outputs": [],
   "source": [
    "import matplotlib.pyplot as plt"
   ]
  },
  {
   "cell_type": "code",
   "execution_count": null,
   "metadata": {},
   "outputs": [],
   "source": [
    "import numpy as np"
   ]
  },
  {
   "cell_type": "code",
   "execution_count": null,
   "metadata": {},
   "outputs": [],
   "source": [
    "x = newdf['Location']\n",
    "y = newdf['Population'] \n",
    "plt.xlabel('Location')\n",
    "plt.ylabel('Population')\n",
    "plt.barh(x,y)\n"
   ]
  },
  {
   "cell_type": "code",
   "execution_count": null,
   "metadata": {},
   "outputs": [],
   "source": [
    "import pyodbc\n",
    "\n",
    "cnxn = pyodbc.connect(\n",
    "    r'Driver=SQL Server;'\n",
    "    r'Server=ADT230771;'\n",
    "    r'Database=DWQueue;'\n",
    "    r'Trusted_Connection=yes;'\n",
    "    )\n",
    "a=newdf['Location'].unique()\n",
    "print(a)\n",
    "\n",
    "cursor = cnxn.cursor()\n",
    "for row in newdf.itertuples():\n",
    "    cursor.execute('select ProvinceID from Province where Name = ?',row[2])\n",
    "    prov = cursor.fetchone()[0]\n",
    "    sql = \"INSERT INTO Population (Date,Province,population) VALUES (?,?,?)\"\n",
    "    try:\n",
    "        cursor.execute(sql,row[1],prov,row[3])\n",
    "        cursor.commit()\n",
    "    except:\n",
    "        pass\n",
    "cursor.close()\n"
   ]
  }
 ],
 "metadata": {
  "kernelspec": {
   "display_name": "Python 3",
   "language": "python",
   "name": "python3"
  },
  "language_info": {
   "codemirror_mode": {
    "name": "ipython",
    "version": 3
   },
   "file_extension": ".py",
   "mimetype": "text/x-python",
   "name": "python",
   "nbconvert_exporter": "python",
   "pygments_lexer": "ipython3",
   "version": "3.10.5"
  },
  "orig_nbformat": 4
 },
 "nbformat": 4,
 "nbformat_minor": 2
}
